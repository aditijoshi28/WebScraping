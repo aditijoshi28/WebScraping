{
 "cells": [
  {
   "attachments": {},
   "cell_type": "markdown",
   "metadata": {},
   "source": [
    "Importing BeautifulSoup and Requests"
   ]
  },
  {
   "attachments": {},
   "cell_type": "markdown",
   "metadata": {},
   "source": [
    "below we used beautifulsoup to parse the IMDb website for top 50 animation movies."
   ]
  },
  {
   "cell_type": "code",
   "execution_count": 34,
   "metadata": {},
   "outputs": [
    {
     "name": "stdout",
     "output_type": "stream",
     "text": [
      "1. The Super Mario Bros. Movie 2023\n",
      "2. Kimetsu no Yaiba 2019– \n",
      "3. Star Wars: Visions 2021– \n",
      "4. Shingeki no Kyojin 2013–2023\n",
      "5. South Park 1997– \n",
      "6. Wish 2023\n",
      "7. Suzume no Tojimari 2022\n",
      "8. Vinland Saga 2019– \n",
      "9. Star Wars: The Clone Wars 2008–2020\n",
      "10. One Piece: Wan pîsu 1999– \n",
      "11. Puss in Boots: The Last Wish 2022\n",
      "12. Spider-Man: Across the Spider-Verse 2023\n",
      "13. The Simpsons 1989– \n",
      "14. Family Guy 1999– \n",
      "15. Rick and Morty 2013– \n",
      "16. Star Wars: Rebels 2014–2018\n",
      "17. Love, Death & Robots 2019– \n",
      "18. Bob's Burgers 2011– \n",
      "19. Star Wars: The Bad Batch 2021– \n",
      "20. BoJack Horseman 2014–2020\n",
      "21. Spider-Man: Into the Spider-Verse 2018\n",
      "22. Moana I) (2016\n",
      "23. Avatar: The Last Airbender 2005–2008\n",
      "24. Bluey 2018– \n",
      "25. Invincible 2021– \n",
      "26. Sing 2 2021\n",
      "27. Jigokuraku 2023– \n",
      "28. Chicken Run: Dawn of the Nugget \n",
      "29. Fired on Mars 2023– \n",
      "30. Arcane: League of Legends 2021– \n",
      "31. Kimi no na wa. 2016\n",
      "32. Sing 2016\n",
      "33. The Lion King 1994\n",
      "34. Encanto 2021\n",
      "35. Oshi no Ko 2023– \n",
      "36. Boku no hîrô akademia 2016– \n",
      "37. Star Wars: Young Jedi Adventures 2023– \n",
      "38. Sen to Chihiro no kamikakushi 2001\n",
      "39. Futurama 1999–2023\n",
      "40. Chicken Run 2000\n",
      "41. The Lion King 2019\n",
      "42. Demon Slayer: Kimetsu No Yaiba - To the Swordsmith Village 2023\n",
      "43. The Owl House 2020–2023\n",
      "44. Naruto 2002–2007\n",
      "45. Cars 2006\n",
      "46. Miraculous: Tales of Ladybug & Cat Noir 2015– \n",
      "47. SpongeBob SquarePants 1999– \n",
      "48. American Dad! 2005– \n",
      "49. Peter Pan 1953\n",
      "50. Ratatouille 2007\n"
     ]
    }
   ],
   "source": [
    "from bs4 import BeautifulSoup\n",
    "import requests\n",
    "try:\n",
    "   source = requests.get('https://www.imdb.com/search/title/?genres=animation&explore=title_type,genres')\n",
    "   source.raise_for_status()\n",
    "\n",
    "   soup = BeautifulSoup(source.text, 'html.parser')\n",
    "   \n",
    "   movies = soup.find('div', class_ =\"lister-list\").find_all('div', class_=\"lister-item-content\")\n",
    "   \n",
    "   for movie in movies:\n",
    "       \n",
    "       name = movie.find('h3', class_ = 'lister-item-header').a.text\n",
    "       \n",
    "       rank = movie.find('span', class_ = 'lister-item-index unbold text-primary').text\n",
    "\n",
    "       year = movie.find('span', class_ = 'lister-item-year text-muted unbold').text.strip('()')\n",
    "\n",
    "       print(rank, name, year)\n",
    "       \n",
    "   \n",
    "\n",
    "except Exception as e:\n",
    "    print(e)"
   ]
  }
 ],
 "metadata": {
  "kernelspec": {
   "display_name": "Python 3",
   "language": "python",
   "name": "python3"
  },
  "language_info": {
   "codemirror_mode": {
    "name": "ipython",
    "version": 3
   },
   "file_extension": ".py",
   "mimetype": "text/x-python",
   "name": "python",
   "nbconvert_exporter": "python",
   "pygments_lexer": "ipython3",
   "version": "3.10.1"
  },
  "orig_nbformat": 4
 },
 "nbformat": 4,
 "nbformat_minor": 2
}
